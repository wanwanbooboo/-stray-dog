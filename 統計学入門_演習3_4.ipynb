{
  "nbformat": 4,
  "nbformat_minor": 0,
  "metadata": {
    "colab": {
      "name": "統計学入門_演習3-4",
      "provenance": [],
      "collapsed_sections": [],
      "authorship_tag": "ABX9TyM30Rk67wDnYy1FBlQbmPy6",
      "include_colab_link": true
    },
    "kernelspec": {
      "name": "python3",
      "display_name": "Python 3"
    }
  },
  "cells": [
    {
      "cell_type": "markdown",
      "metadata": {
        "id": "view-in-github",
        "colab_type": "text"
      },
      "source": [
        "<a href=\"https://colab.research.google.com/github/wanwanbooboo/stray-dog/blob/main/%E7%B5%B1%E8%A8%88%E5%AD%A6%E5%85%A5%E9%96%80_%E6%BC%94%E7%BF%923_4.ipynb\" target=\"_parent\"><img src=\"https://colab.research.google.com/assets/colab-badge.svg\" alt=\"Open In Colab\"/></a>"
      ]
    },
    {
      "cell_type": "markdown",
      "metadata": {
        "id": "LsqUw_v-V53V"
      },
      "source": [
        "統計学入門 p65　演習 3.4 <ブートストラップ>"
      ]
    },
    {
      "cell_type": "code",
      "metadata": {
        "id": "SGXHnd5mVf6R"
      },
      "source": [
        "import numpy as np\n",
        "import matplotlib.pyplot as plt\n",
        "%matplotlib inline\n",
        "import random\n",
        "import seaborn as sns\n",
        "\n",
        "male=[71,68,66,67,70,71,70,73,72,65,66]\n",
        "female=[69,64,65,63,65,62,65,64,66,59,62]"
      ],
      "execution_count": 62,
      "outputs": []
    },
    {
      "cell_type": "code",
      "metadata": {
        "id": "8lzpZ7-rOjK1"
      },
      "source": [
        "cor_list=[]\n",
        "\n",
        "for i in range(20000):\n",
        "  new_male=[]\n",
        "  new_female=[]\n",
        "\n",
        "  for j in range(11):\n",
        "\n",
        "    num=random.randint(0,10)\n",
        "    # print(num)\n",
        "\n",
        "    new_male=new_male+[male[num]]\n",
        "    new_female=new_female+[female[num]]\n",
        "\n",
        "  cor =np.corrcoef(new_male,new_female)\n",
        "  cor_list=cor_list+[cor[0,1]]\n"
      ],
      "execution_count": 68,
      "outputs": []
    },
    {
      "cell_type": "code",
      "metadata": {
        "colab": {
          "base_uri": "https://localhost:8080/",
          "height": 337
        },
        "id": "VPnCBU2oUWU5",
        "outputId": "f0eee829-a97f-431e-c641-c5534ec5032d"
      },
      "source": [
        "plt.figure(figsize=(10,5))\n",
        "sns.histplot(cor_list)"
      ],
      "execution_count": 69,
      "outputs": [
        {
          "output_type": "execute_result",
          "data": {
            "text/plain": [
              "<matplotlib.axes._subplots.AxesSubplot at 0x7f6e469fd2d0>"
            ]
          },
          "metadata": {},
          "execution_count": 69
        },
        {
          "output_type": "display_data",
          "data": {
            "image/png": "[encoded data removed]",
            "text/plain": [
              "<Figure size 720x360 with 1 Axes>"
            ]
          },
          "metadata": {
            "needs_background": "light"
          }
        }
      ]
    }
  ]
}